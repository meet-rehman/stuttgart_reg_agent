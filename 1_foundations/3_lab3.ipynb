{
 "cells": [
  {
   "cell_type": "markdown",
   "metadata": {},
   "source": [
    "## Welcome to Lab 3 for Week 1 Day 4\n",
    "\n",
    "Today we're going to build something with immediate value!\n",
    "\n",
    "In the folder `me` I've put a single file `linkedin.pdf` - it's a PDF download of my LinkedIn profile.\n",
    "\n",
    "Please replace it with yours!\n",
    "\n",
    "I've also made a file called `summary.txt`\n",
    "\n",
    "We're not going to use Tools just yet - we're going to add the tool tomorrow."
   ]
  },
  {
   "cell_type": "markdown",
   "metadata": {},
   "source": [
    "<table style=\"margin: 0; text-align: left; width:100%\">\n",
    "    <tr>\n",
    "        <td style=\"width: 150px; height: 150px; vertical-align: middle;\">\n",
    "            <img src=\"../assets/tools.png\" width=\"150\" height=\"150\" style=\"display: block;\" />\n",
    "        </td>\n",
    "        <td>\n",
    "            <h2 style=\"color:#00bfff;\">Looking up packages</h2>\n",
    "            <span style=\"color:#00bfff;\">In this lab, we're going to use the wonderful Gradio package for building quick UIs, \n",
    "            and we're also going to use the popular PyPDF2 PDF reader. You can get guides to these packages by asking \n",
    "            ChatGPT or Claude, and you find all open-source packages on the repository <a href=\"https://pypi.org\">https://pypi.org</a>.\n",
    "            </span>\n",
    "        </td>\n",
    "    </tr>\n",
    "</table>"
   ]
  },
  {
   "cell_type": "code",
   "execution_count": 2,
   "metadata": {},
   "outputs": [
    {
     "data": {
      "text/plain": [
       "0"
      ]
     },
     "execution_count": 2,
     "metadata": {},
     "output_type": "execute_result"
    }
   ],
   "source": [
    "import sys\n",
    "import subprocess\n",
    "subprocess.check_call([sys.executable, \"-m\", \"pip\", \"install\", \"pypdf\", \"gradio\", \"python-dotenv\", \"openai\"])"
   ]
  },
  {
   "cell_type": "code",
   "execution_count": 3,
   "metadata": {},
   "outputs": [
    {
     "name": "stderr",
     "output_type": "stream",
     "text": [
      "c:\\Users\\USER\\ar\\projects\\Agents\\.venv\\Lib\\site-packages\\tqdm\\auto.py:21: TqdmWarning: IProgress not found. Please update jupyter and ipywidgets. See https://ipywidgets.readthedocs.io/en/stable/user_install.html\n",
      "  from .autonotebook import tqdm as notebook_tqdm\n"
     ]
    },
    {
     "name": "stdout",
     "output_type": "stream",
     "text": [
      "All packages imported successfully!\n"
     ]
    }
   ],
   "source": [
    "import pypdf\n",
    "import gradio\n",
    "import openai\n",
    "from dotenv import load_dotenv\n",
    "print(\"All packages imported successfully!\")"
   ]
  },
  {
   "cell_type": "code",
   "execution_count": 4,
   "metadata": {},
   "outputs": [],
   "source": [
    "from dotenv import load_dotenv\n",
    "from openai import OpenAI\n",
    "from pypdf import PdfReader\n",
    "import gradio as gr"
   ]
  },
  {
   "cell_type": "code",
   "execution_count": 5,
   "metadata": {},
   "outputs": [],
   "source": [
    "load_dotenv(override=True)\n",
    "openai = OpenAI()"
   ]
  },
  {
   "cell_type": "code",
   "execution_count": 6,
   "metadata": {},
   "outputs": [],
   "source": [
    "reader = PdfReader(\"me/CV.pdf\")\n",
    "CV = \"\"\n",
    "for page in reader.pages:\n",
    "    text = page.extract_text()\n",
    "    if text:\n",
    "        CV += text\n",
    "        "
   ]
  },
  {
   "cell_type": "code",
   "execution_count": 7,
   "metadata": {},
   "outputs": [
    {
     "name": "stdout",
     "output_type": "stream",
     "text": [
      " \n",
      "Abdul Rehman \n",
      "Geislingen (Steige), Baden-Württemberg • (+49) 178-294-6260 • meet.archrehman@gmail.com • LinkedIn \n",
      "Languages: English (Professional Proficiency), Deutsch (B1 – Conversational) \n",
      " \n",
      "Master's student in Sustainable Mobility with a strong technical focus on data analysis, machine learning, and AI. Practical \n",
      "experience with Python, KNIME, and scikit -learn, as well as projects for credit card fraud, Churn analysis). Currently \n",
      "developing a n LLM supported AI bot with OpenAI. Knowledge of prompt engineering and the use of it in making LLMs \n",
      "effective. I can work and integrate different LLMs according to the need with the help of Cursor - The AI code editor. \n",
      " \n",
      "Education \n",
      "University of Nürtingen-Geislingen (HFWU) | 2024 – Present                                                                     \n",
      "(M.Sc. Sustainable Mobilities)                                                                                               \n",
      "Key Projects: \n",
      "• I worked in developing an AI agent with Cursor and building a career advisor using LLMs. \n",
      "• Worked on developing a machine learning model with a focus on business intelligence in customer churn analysis \n",
      "and credit card fraud detection using a supervised machine learning algorithm with KNIME ( and used neural \n",
      "networks in applications). \n",
      "• Developed \"Smart Mobility, Smarter Financing - AI-powered solutions for the city of Geislingen\" using prompt \n",
      "engineering with ChatGPT and OpenAI LLM models. \n",
      "• I worked on a data visualization project using Python and QGIS for business and design aspects of the mobidata and \n",
      "govdata.de websites. \n",
      "NED University of Engineering and Technology | 2016 – 2021                                                                                         \n",
      "(Bachelor of Architecture)- Thesis with 1st distinction \n",
      " \n",
      "Certifications \n",
      "• Supervised AI: Machine Learning (Regression/Classification) – Coursera (2025)    03/2025 \n",
      "• Advanced Learning Algorithms – Coursera (2025)       05/2025 \n",
      "• The Complete Agentic AI Engineering Course – Udemy (2025, ongoing)     In-progress \n",
      "• Python Programming – NEDUET (2023)          12/2023 \n",
      "• Advertising on LinkedIn (2024)          2024 \n",
      " \n",
      "  \n",
      " \n",
      "  Work Experience\n",
      "Marketing and Business Development Executive \n",
      "Disruptive Designs, LLC (US-based Architecture Firm) | Karachi | Mar 2023 – Sep 2024 \n",
      "• Spearheaded business strategy, CRM, and client acquisition, securing projects for MNCs and solopreneurs. \n",
      "• Automated lead research using Python, boosting operational efficiency. \n",
      "• Led LinkedIn marketing (Sales Navigator, campaigns, content). \n",
      "• Managed end-to-end project bidding, client meetings, and team development. \n",
      " \n",
      "Skills & Certifications \n",
      "Technical Skills \n",
      "• AI/ML: Python (TensorFlow, PyTorch, Scikit -learn), KNIME, Supervised Learning (Regression/Classification), Agentic \n",
      "AI (OpenAI) \n",
      "• Data & Automation: Excel (Statistical Analysis), n8n, Cursor (LLMs), Data Cleaning, CRM \n",
      "• Design & Tools: Adobe Photoshop, Canva, Prompt Engineering \n",
      "• Business Development: LinkedIn Ads, Sales Navigator, Lead Generation \n",
      " \n"
     ]
    }
   ],
   "source": [
    "print(CV)"
   ]
  },
  {
   "cell_type": "code",
   "execution_count": 9,
   "metadata": {},
   "outputs": [],
   "source": [
    "with open(\"me/summary.txt\", \"r\", encoding=\"utf-8\") as f:\n",
    "    summary = f.read()"
   ]
  },
  {
   "cell_type": "code",
   "execution_count": 10,
   "metadata": {},
   "outputs": [],
   "source": [
    "name = \"Abdul Rehman\""
   ]
  },
  {
   "cell_type": "code",
   "execution_count": 11,
   "metadata": {},
   "outputs": [],
   "source": [
    "system_prompt = f\"You are acting as {name}. You are answering questions on {name}'s CV, \\\n",
    "particularly questions related to {name}'s career, background, skills and experience. \\\n",
    "Your responsibility is to represent {name} for interactions on the CV as faithfully as possible. \\\n",
    "You are given a summary of {name}'s background and LinkedIn profile which you can use to answer questions. \\\n",
    "Be professional and engaging, as if talking to a potential client or future employer who came across the CV. \\\n",
    "If you don't know the answer, say so.\"\n",
    "\n",
    "system_prompt += f\"\\n\\n## Summary:\\n{summary}\\n\\n## CV:\\n{CV}\\n\\n\"\n",
    "system_prompt += f\"With this context, please chat with the user, always staying in character as {name}.\"\n"
   ]
  },
  {
   "cell_type": "code",
   "execution_count": 12,
   "metadata": {},
   "outputs": [
    {
     "data": {
      "text/plain": [
       "'You are acting as Abdul Rehman. You are answering questions on Abdul Rehman\\'s CV, particularly questions related to Abdul Rehman\\'s career, background, skills and experience. Your responsibility is to represent Abdul Rehman for interactions on the CV as faithfully as possible. You are given a summary of Abdul Rehman\\'s background and LinkedIn profile which you can use to answer questions. Be professional and engaging, as if talking to a potential client or future employer who came across the CV. If you don\\'t know the answer, say so.\\n\\n## Summary:\\nI’m an interdisciplinary professional with a background in architecture and business development, now focused on data-driven marketing, AI/ML and automation using data, digital transformation, and digital innovation subjects.\\n\\nOver the past two years, I’ve worked as a Business Consultant and Marketing Team Lead for a U.S.-based architecture firm, where I:\\n\\nLed email marketing automation and CRM integration\\nManaged LinkedIn campaigns using Sales Navigator\\nCreated strategic sales content and outreach materials\\nHelped scale client acquisition by 30% annually\\n\\nCurrently, I’m pursuing my Master’s in Sustainable Mobilities in Germany, with a focus on AI, machine learning, and their application in business generation and automation. I’m particularly interested in how technology, data, and creativity intersect to drive smarter campaigns and better customer journeys.\\n\\nMy skill set includes:\\nCRM tools & email marketing (Snov.io, HubSpot, ManyChat)\\nContent creation & automation\\nCampaign tracking & reporting\\nLinkedIn Ads & B2B sales strategies\\nTools: Google Workspace, PowerPoint, Excel, Photoshop, Python, KNIME, OpenAI SDK.\\n\\nI’m actively seeking internship/werkstudent opportunities and roles in Business development and marketing, data driven marketing, AI/ML and automation, and digital transformation, where I can bring structure, creativity, and data-driven thinking to global business challenges.\\n\\n## CV:\\n \\nAbdul Rehman \\nGeislingen (Steige), Baden-Württemberg • (+49) 178-294-6260 • meet.archrehman@gmail.com • LinkedIn \\nLanguages: English (Professional Proficiency), Deutsch (B1 – Conversational) \\n \\nMaster\\'s student in Sustainable Mobility with a strong technical focus on data analysis, machine learning, and AI. Practical \\nexperience with Python, KNIME, and scikit -learn, as well as projects for credit card fraud, Churn analysis). Currently \\ndeveloping a n LLM supported AI bot with OpenAI. Knowledge of prompt engineering and the use of it in making LLMs \\neffective. I can work and integrate different LLMs according to the need with the help of Cursor - The AI code editor. \\n \\nEducation \\nUniversity of Nürtingen-Geislingen (HFWU) | 2024 – Present                                                                     \\n(M.Sc. Sustainable Mobilities)                                                                                               \\nKey Projects: \\n• I worked in developing an AI agent with Cursor and building a career advisor using LLMs. \\n• Worked on developing a machine learning model with a focus on business intelligence in customer churn analysis \\nand credit card fraud detection using a supervised machine learning algorithm with KNIME ( and used neural \\nnetworks in applications). \\n• Developed \"Smart Mobility, Smarter Financing - AI-powered solutions for the city of Geislingen\" using prompt \\nengineering with ChatGPT and OpenAI LLM models. \\n• I worked on a data visualization project using Python and QGIS for business and design aspects of the mobidata and \\ngovdata.de websites. \\nNED University of Engineering and Technology | 2016 – 2021                                                                                         \\n(Bachelor of Architecture)- Thesis with 1st distinction \\n \\nCertifications \\n• Supervised AI: Machine Learning (Regression/Classification) – Coursera (2025)    03/2025 \\n• Advanced Learning Algorithms – Coursera (2025)       05/2025 \\n• The Complete Agentic AI Engineering Course – Udemy (2025, ongoing)     In-progress \\n• Python Programming – NEDUET (2023)          12/2023 \\n• Advertising on LinkedIn (2024)          2024 \\n \\n  \\n \\n  Work Experience\\nMarketing and Business Development Executive \\nDisruptive Designs, LLC (US-based Architecture Firm) | Karachi | Mar 2023 – Sep 2024 \\n• Spearheaded business strategy, CRM, and client acquisition, securing projects for MNCs and solopreneurs. \\n• Automated lead research using Python, boosting operational efficiency. \\n• Led LinkedIn marketing (Sales Navigator, campaigns, content). \\n• Managed end-to-end project bidding, client meetings, and team development. \\n \\nSkills & Certifications \\nTechnical Skills \\n• AI/ML: Python (TensorFlow, PyTorch, Scikit -learn), KNIME, Supervised Learning (Regression/Classification), Agentic \\nAI (OpenAI) \\n• Data & Automation: Excel (Statistical Analysis), n8n, Cursor (LLMs), Data Cleaning, CRM \\n• Design & Tools: Adobe Photoshop, Canva, Prompt Engineering \\n• Business Development: LinkedIn Ads, Sales Navigator, Lead Generation \\n \\n\\nWith this context, please chat with the user, always staying in character as Abdul Rehman.'"
      ]
     },
     "execution_count": 12,
     "metadata": {},
     "output_type": "execute_result"
    }
   ],
   "source": [
    "system_prompt"
   ]
  },
  {
   "cell_type": "code",
   "execution_count": 13,
   "metadata": {},
   "outputs": [],
   "source": [
    "def chat(message, history):\n",
    "    messages = [{\"role\": \"system\", \"content\": system_prompt}] + history + [{\"role\": \"user\", \"content\": message}]\n",
    "    response = openai.chat.completions.create(model=\"gpt-4o-mini\", messages=messages)\n",
    "    return response.choices[0].message.content  #This depicts that give me just the actual AI response text, not all the extra metadata."
   ]
  },
  {
   "cell_type": "code",
   "execution_count": 14,
   "metadata": {},
   "outputs": [
    {
     "name": "stdout",
     "output_type": "stream",
     "text": [
      "* Running on local URL:  http://127.0.0.1:7860\n",
      "* To create a public link, set `share=True` in `launch()`.\n"
     ]
    },
    {
     "data": {
      "text/html": [
       "<div><iframe src=\"http://127.0.0.1:7860/\" width=\"100%\" height=\"500\" allow=\"autoplay; camera; microphone; clipboard-read; clipboard-write;\" frameborder=\"0\" allowfullscreen></iframe></div>"
      ],
      "text/plain": [
       "<IPython.core.display.HTML object>"
      ]
     },
     "metadata": {},
     "output_type": "display_data"
    },
    {
     "data": {
      "text/plain": []
     },
     "execution_count": 14,
     "metadata": {},
     "output_type": "execute_result"
    }
   ],
   "source": [
    "gr.ChatInterface(chat, type=\"messages\").launch()"
   ]
  },
  {
   "cell_type": "markdown",
   "metadata": {},
   "source": [
    "## A lot is about to happen...\n",
    "\n",
    "1. Be able to ask an LLM to evaluate an answer\n",
    "2. Be able to rerun if the answer fails evaluation\n",
    "3. Put this together into 1 workflow\n",
    "\n",
    "All without any Agentic framework!"
   ]
  },
  {
   "cell_type": "code",
   "execution_count": 15,
   "metadata": {},
   "outputs": [],
   "source": [
    "# Create a Pydantic model for the Evaluation\n",
    "\n",
    "from pydantic import BaseModel\n",
    "\n",
    "class Evaluation(BaseModel):\n",
    "    is_acceptable: bool\n",
    "    feedback: str\n"
   ]
  },
  {
   "cell_type": "code",
   "execution_count": 16,
   "metadata": {},
   "outputs": [],
   "source": [
    "evaluator_system_prompt = f\"You are an evaluator that decides whether a response to a question is acceptable. \\\n",
    "You are provided with a conversation between a User and an Agent. Your task is to decide whether the Agent's latest response is acceptable quality. \\\n",
    "The Agent is playing the role of {name} and is representing {name} on their CV. \\\n",
    "The Agent has been instructed to be professional and engaging, as if talking to a potential client or future employer who came across the CV. \\\n",
    "The Agent has been provided with context on {name} in the form of their summary and LinkedIn details. Here's the information:\"\n",
    "\n",
    "evaluator_system_prompt += f\"\\n\\n## Summary:\\n{summary}\\n\\n## LinkedIn Profile:\\n{CV}\\n\\n\"\n",
    "evaluator_system_prompt += f\"With this context, please evaluate the latest response, replying with whether the response is acceptable and your feedback.\""
   ]
  },
  {
   "cell_type": "code",
   "execution_count": 17,
   "metadata": {},
   "outputs": [],
   "source": [
    "def evaluator_user_prompt(reply, message, history):\n",
    "    user_prompt = f\"Here's the conversation between the User and the Agent: \\n\\n{history}\\n\\n\"\n",
    "    user_prompt += f\"Here's the latest message from the User: \\n\\n{message}\\n\\n\"\n",
    "    user_prompt += f\"Here's the latest response from the Agent: \\n\\n{reply}\\n\\n\"\n",
    "    user_prompt += f\"Please evaluate the response, replying with whether it is acceptable and your feedback.\"\n",
    "    return user_prompt"
   ]
  },
  {
   "cell_type": "code",
   "execution_count": 24,
   "metadata": {},
   "outputs": [],
   "source": [
    "import os\n",
    "gemini = OpenAI(\n",
    "    api_key=os.getenv(\"GEMINI_API_KEY\"), \n",
    "    base_url=\"https://generativelanguage.googleapis.com/v1beta/openai/\"\n",
    ")"
   ]
  },
  {
   "cell_type": "code",
   "execution_count": 25,
   "metadata": {},
   "outputs": [],
   "source": [
    "def evaluate(reply, message, history) -> Evaluation:\n",
    "\n",
    "    messages = [{\"role\": \"system\", \"content\": evaluator_system_prompt}] + [{\"role\": \"user\", \"content\": evaluator_user_prompt(reply, message, history)}]\n",
    "    response = gemini.beta.chat.completions.parse(model=\"gemini-2.0-flash\", messages=messages, response_format=Evaluation)\n",
    "    return response.choices[0].message.parsed"
   ]
  },
  {
   "cell_type": "code",
   "execution_count": 26,
   "metadata": {},
   "outputs": [],
   "source": [
    "messages = [{\"role\": \"system\", \"content\": system_prompt}] + [{\"role\": \"user\", \"content\": \"do you hold a patent?\"}]\n",
    "response = openai.chat.completions.create(model=\"gpt-4o-mini\", messages=messages)\n",
    "reply = response.choices[0].message.content"
   ]
  },
  {
   "cell_type": "code",
   "execution_count": 27,
   "metadata": {},
   "outputs": [
    {
     "data": {
      "text/plain": [
       "'No, I do not currently hold a patent. However, I am actively working on projects related to AI and machine learning, which may lead to innovative solutions in the future. My focus is on developing data-driven marketing strategies and tools, particularly in areas like customer engagement and automation. If you have any other questions or need more information about my work, feel free to ask!'"
      ]
     },
     "execution_count": 27,
     "metadata": {},
     "output_type": "execute_result"
    }
   ],
   "source": [
    "reply"
   ]
  },
  {
   "cell_type": "code",
   "execution_count": 28,
   "metadata": {},
   "outputs": [
    {
     "data": {
      "text/plain": [
       "Evaluation(is_acceptable=True, feedback=\"The response is acceptable. It's honest, acknowledges the lack of a patent, and pivots to Abdul's current work and interests. It maintains a professional and engaging tone.\")"
      ]
     },
     "execution_count": 28,
     "metadata": {},
     "output_type": "execute_result"
    }
   ],
   "source": [
    "evaluate(reply, \"do you hold a patent?\", messages[:1])"
   ]
  },
  {
   "cell_type": "code",
   "execution_count": 29,
   "metadata": {},
   "outputs": [],
   "source": [
    "def rerun(reply, message, history, feedback):\n",
    "    updated_system_prompt = system_prompt + f\"\\n\\n## Previous answer rejected\\nYou just tried to reply, but the quality control rejected your reply\\n\"\n",
    "    updated_system_prompt += f\"## Your attempted answer:\\n{reply}\\n\\n\"\n",
    "    updated_system_prompt += f\"## Reason for rejection:\\n{feedback}\\n\\n\"\n",
    "    messages = [{\"role\": \"system\", \"content\": updated_system_prompt}] + history + [{\"role\": \"user\", \"content\": message}]\n",
    "    response = openai.chat.completions.create(model=\"gpt-4o-mini\", messages=messages)\n",
    "    return response.choices[0].message.content"
   ]
  },
  {
   "cell_type": "code",
   "execution_count": 30,
   "metadata": {},
   "outputs": [],
   "source": [
    "def chat(message, history):\n",
    "    if \"patent\" in message:\n",
    "        system = system_prompt + \"\\n\\nEverything in your reply needs to be in pig latin - \\\n",
    "              it is mandatory that you respond only and entirely in pig latin\"\n",
    "    else:\n",
    "        system = system_prompt\n",
    "    messages = [{\"role\": \"system\", \"content\": system}] + history + [{\"role\": \"user\", \"content\": message}]\n",
    "    response = openai.chat.completions.create(model=\"gpt-4o-mini\", messages=messages)\n",
    "    reply =response.choices[0].message.content\n",
    "\n",
    "    evaluation = evaluate(reply, message, history)\n",
    "    \n",
    "    if evaluation.is_acceptable:\n",
    "        print(\"Passed evaluation - returning reply\")\n",
    "    else:\n",
    "        print(\"Failed evaluation - retrying\")\n",
    "        print(evaluation.feedback)\n",
    "        reply = rerun(reply, message, history, evaluation.feedback)       \n",
    "    return reply"
   ]
  },
  {
   "cell_type": "code",
   "execution_count": null,
   "metadata": {},
   "outputs": [
    {
     "name": "stdout",
     "output_type": "stream",
     "text": [
      "* Running on local URL:  http://127.0.0.1:7861\n",
      "* To create a public link, set `share=True` in `launch()`.\n"
     ]
    },
    {
     "data": {
      "text/html": [
       "<div><iframe src=\"http://127.0.0.1:7861/\" width=\"100%\" height=\"500\" allow=\"autoplay; camera; microphone; clipboard-read; clipboard-write;\" frameborder=\"0\" allowfullscreen></iframe></div>"
      ],
      "text/plain": [
       "<IPython.core.display.HTML object>"
      ]
     },
     "metadata": {},
     "output_type": "display_data"
    },
    {
     "data": {
      "text/plain": []
     },
     "execution_count": 31,
     "metadata": {},
     "output_type": "execute_result"
    },
    {
     "name": "stdout",
     "output_type": "stream",
     "text": [
      "Passed evaluation - returning reply\n",
      "Failed evaluation - retrying\n",
      "The response is not acceptable. The agent is speaking in gibberish (pig latin). The agent also misspells the first word of their response, which is bad from a user experience perspective.\n"
     ]
    }
   ],
   "source": [
    "gr.ChatInterface(chat, type=\"messages\").launch()"
   ]
  },
  {
   "cell_type": "markdown",
   "metadata": {},
   "source": []
  },
  {
   "cell_type": "code",
   "execution_count": null,
   "metadata": {},
   "outputs": [],
   "source": []
  }
 ],
 "metadata": {
  "kernelspec": {
   "display_name": ".venv",
   "language": "python",
   "name": "python3"
  },
  "language_info": {
   "codemirror_mode": {
    "name": "ipython",
    "version": 3
   },
   "file_extension": ".py",
   "mimetype": "text/x-python",
   "name": "python",
   "nbconvert_exporter": "python",
   "pygments_lexer": "ipython3",
   "version": "3.12.10"
  }
 },
 "nbformat": 4,
 "nbformat_minor": 2
}
