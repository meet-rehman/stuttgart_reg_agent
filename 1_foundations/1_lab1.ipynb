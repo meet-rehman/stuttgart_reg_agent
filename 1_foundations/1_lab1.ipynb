{
 "cells": [
  {
   "cell_type": "markdown",
   "metadata": {},
   "source": [
    "# Welcome to the start of your adventure in Agentic AI"
   ]
  },
  {
   "cell_type": "markdown",
   "metadata": {},
   "source": [
    "<table style=\"margin: 0; text-align: left; width:100%\">\n",
    "    <tr>\n",
    "        <td style=\"width: 150px; height: 150px; vertical-align: middle;\">\n",
    "            <img src=\"../assets/stop.png\" width=\"150\" height=\"150\" style=\"display: block;\" />\n",
    "        </td>\n",
    "        <td>\n",
    "            <h2 style=\"color:#ff7800;\">Are you ready for action??</h2>\n",
    "            <span style=\"color:#ff7800;\">Have you completed all the setup steps in the <a href=\"../setup/\">setup</a> folder?<br/>\n",
    "            Have you checked out the guides in the <a href=\"../guides/01_intro.ipynb\">guides</a> folder?<br/>\n",
    "            Well in that case, you're ready!!\n",
    "            </span>\n",
    "        </td>\n",
    "    </tr>\n",
    "</table>"
   ]
  },
  {
   "cell_type": "markdown",
   "metadata": {},
   "source": [
    "<table style=\"margin: 0; text-align: left; width:100%\">\n",
    "    <tr>\n",
    "        <td style=\"width: 150px; height: 150px; vertical-align: middle;\">\n",
    "            <img src=\"../assets/tools.png\" width=\"150\" height=\"150\" style=\"display: block;\" />\n",
    "        </td>\n",
    "        <td>\n",
    "            <h2 style=\"color:#00bfff;\">This code is a live resource - keep an eye out for my updates</h2>\n",
    "            <span style=\"color:#00bfff;\">I push updates regularly. As people ask questions or have problems, I add more examples and improve explanations. As a result, the code below might not be identical to the videos, as I've added more steps and better comments. Consider this like an interactive book that accompanies the lectures.<br/><br/>\n",
    "            I try to send emails regularly with important updates related to the course. You can find this in the 'Announcements' section of Udemy in the left sidebar. You can also choose to receive my emails via your Notification Settings in Udemy. I'm respectful of your inbox and always try to add value with my emails!\n",
    "            </span>\n",
    "        </td>\n",
    "    </tr>\n",
    "</table>"
   ]
  },
  {
   "cell_type": "markdown",
   "metadata": {},
   "source": [
    "### And please do remember to contact me if I can help\n",
    "\n",
    "And I love to connect: https://www.linkedin.com/in/eddonner/\n",
    "\n",
    "\n",
    "### New to Notebooks like this one? Head over to the guides folder!\n",
    "\n",
    "Just to check you've already added the Python and Jupyter extensions to Cursor, if not already installed:\n",
    "- Open extensions (View >> extensions)\n",
    "- Search for python, and when the results show, click on the ms-python one, and Install it if not already installed\n",
    "- Search for jupyter, and when the results show, click on the Microsoft one, and Install it if not already installed  \n",
    "Then View >> Explorer to bring back the File Explorer.\n",
    "\n",
    "And then:\n",
    "1. Click where it says \"Select Kernel\" near the top right, and select the option called `.venv (Python 3.12.9)` or similar, which should be the first choice or the most prominent choice. You may need to choose \"Python Environments\" first.\n",
    "2. Click in each \"cell\" below, starting with the cell immediately below this text, and press Shift+Enter to run\n",
    "3. Enjoy!\n",
    "\n",
    "After you click \"Select Kernel\", if there is no option like `.venv (Python 3.12.9)` then please do the following:  \n",
    "1. On Mac: From the Cursor menu, choose Settings >> VS Code Settings (NOTE: be sure to select `VSCode Settings` not `Cursor Settings`);  \n",
    "On Windows PC: From the File menu, choose Preferences >> VS Code Settings(NOTE: be sure to select `VSCode Settings` not `Cursor Settings`)  \n",
    "2. In the Settings search bar, type \"venv\"  \n",
    "3. In the field \"Path to folder with a list of Virtual Environments\" put the path to the project root, like C:\\Users\\username\\projects\\agents (on a Windows PC) or /Users/username/projects/agents (on Mac or Linux).  \n",
    "And then try again.\n",
    "\n",
    "Having problems with missing Python versions in that list? Have you ever used Anaconda before? It might be interferring. Quit Cursor, bring up a new command line, and make sure that your Anaconda environment is deactivated:    \n",
    "`conda deactivate`  \n",
    "And if you still have any problems with conda and python versions, it's possible that you will need to run this too:  \n",
    "`conda config --set auto_activate_base false`  \n",
    "and then from within the Agents directory, you should be able to run `uv python list` and see the Python 3.12 version."
   ]
  },
  {
   "cell_type": "code",
   "execution_count": 1,
   "metadata": {},
   "outputs": [],
   "source": [
    "# First let's do an import\n",
    "from dotenv import load_dotenv\n"
   ]
  },
  {
   "cell_type": "code",
   "execution_count": 2,
   "metadata": {},
   "outputs": [
    {
     "data": {
      "text/plain": [
       "True"
      ]
     },
     "execution_count": 2,
     "metadata": {},
     "output_type": "execute_result"
    }
   ],
   "source": [
    "# Next it's time to load the API keys into environment variables\n",
    "\n",
    "load_dotenv(override=True)"
   ]
  },
  {
   "cell_type": "code",
   "execution_count": 3,
   "metadata": {},
   "outputs": [
    {
     "name": "stdout",
     "output_type": "stream",
     "text": [
      "OpenAI API Key exists and begins sk-proj-\n"
     ]
    }
   ],
   "source": [
    "# Check the keys\n",
    "\n",
    "import os\n",
    "openai_api_key = os.getenv('OPENAI_API_KEY')\n",
    "\n",
    "if openai_api_key:\n",
    "    print(f\"OpenAI API Key exists and begins {openai_api_key[:8]}\")\n",
    "else:\n",
    "    print(\"OpenAI API Key not set - please head to the troubleshooting guide in the setup folder\")\n",
    "    \n"
   ]
  },
  {
   "cell_type": "code",
   "execution_count": 4,
   "metadata": {},
   "outputs": [
    {
     "ename": "ModuleNotFoundError",
     "evalue": "No module named 'openai'",
     "output_type": "error",
     "traceback": [
      "\u001b[31m---------------------------------------------------------------------------\u001b[39m",
      "\u001b[31mModuleNotFoundError\u001b[39m                       Traceback (most recent call last)",
      "\u001b[36mCell\u001b[39m\u001b[36m \u001b[39m\u001b[32mIn[4]\u001b[39m\u001b[32m, line 4\u001b[39m\n\u001b[32m      1\u001b[39m \u001b[38;5;66;03m# And now - the all important import statement\u001b[39;00m\n\u001b[32m      2\u001b[39m \u001b[38;5;66;03m# If you get an import error - head over to troubleshooting guide\u001b[39;00m\n\u001b[32m----> \u001b[39m\u001b[32m4\u001b[39m \u001b[38;5;28;01mfrom\u001b[39;00m\u001b[38;5;250m \u001b[39m\u001b[34;01mopenai\u001b[39;00m\u001b[38;5;250m \u001b[39m\u001b[38;5;28;01mimport\u001b[39;00m OpenAI\n",
      "\u001b[31mModuleNotFoundError\u001b[39m: No module named 'openai'"
     ]
    }
   ],
   "source": [
    "# And now - the all important import statement\n",
    "# If you get an import error - head over to troubleshooting guide\n",
    "\n",
    "from openai import OpenAI"
   ]
  },
  {
   "cell_type": "code",
   "execution_count": 12,
   "metadata": {},
   "outputs": [],
   "source": [
    "# And now we'll create an instance of the OpenAI class\n",
    "# If you're not sure what it means to create an instance of a class - head over to the guides folder!\n",
    "# If you get a NameError - head over to the guides folder to learn about NameErrors\n",
    "\n",
    "openai = OpenAI()"
   ]
  },
  {
   "cell_type": "code",
   "execution_count": 13,
   "metadata": {},
   "outputs": [],
   "source": [
    "# Create a list of messages in the familiar OpenAI format\n",
    "\n",
    "messages = [{\"role\": \"user\", \"content\": \"What is 2+2?\"}]"
   ]
  },
  {
   "cell_type": "code",
   "execution_count": 14,
   "metadata": {},
   "outputs": [
    {
     "name": "stdout",
     "output_type": "stream",
     "text": [
      "2+2 is 4.\n"
     ]
    }
   ],
   "source": [
    "# And now call it! Any problems, head to the troubleshooting guide\n",
    "# This uses GPT 4.1 nano, the incredibly cheap model\n",
    "\n",
    "response = openai.chat.completions.create(\n",
    "    model=\"gpt-4.1-nano\",\n",
    "    messages=messages\n",
    ")\n",
    "\n",
    "print(response.choices[0].message.content)\n"
   ]
  },
  {
   "cell_type": "code",
   "execution_count": 15,
   "metadata": {},
   "outputs": [],
   "source": [
    "# And now - let's ask for a question:\n",
    "\n",
    "question = \"Please propose a hard, challenging question to assess someone's IQ. Respond only with the question.\"\n",
    "messages = [{\"role\": \"user\", \"content\": question}]\n"
   ]
  },
  {
   "cell_type": "code",
   "execution_count": 16,
   "metadata": {},
   "outputs": [
    {
     "name": "stdout",
     "output_type": "stream",
     "text": [
      "If five machines take five minutes to make five widgets, how long would 100 machines take to make 100 widgets?\n"
     ]
    }
   ],
   "source": [
    "# ask it - this uses GPT 4.1 mini, still cheap but more powerful than nano\n",
    "\n",
    "response = openai.chat.completions.create(\n",
    "    model=\"gpt-4.1-mini\",\n",
    "    messages=messages\n",
    ")\n",
    "\n",
    "question = response.choices[0].message.content\n",
    "\n",
    "print(question)\n"
   ]
  },
  {
   "cell_type": "code",
   "execution_count": 17,
   "metadata": {},
   "outputs": [],
   "source": [
    "# form a new messages list\n",
    "messages = [{\"role\": \"user\", \"content\": question}]\n"
   ]
  },
  {
   "cell_type": "code",
   "execution_count": 18,
   "metadata": {},
   "outputs": [
    {
     "name": "stdout",
     "output_type": "stream",
     "text": [
      "Let's analyze the problem step by step:\n",
      "\n",
      "- Five machines take five minutes to make five widgets.\n",
      "- This means **one machine** takes five minutes to make one widget.\n",
      "- Therefore, each machine produces **one widget every five minutes**.\n",
      "\n",
      "Now, if we have 100 machines working simultaneously:\n",
      "\n",
      "- Each machine makes one widget in five minutes.\n",
      "- So, 100 machines will make 100 widgets in **five minutes**.\n",
      "\n",
      "**Answer:** 5 minutes.\n"
     ]
    }
   ],
   "source": [
    "# Ask it again\n",
    "\n",
    "response = openai.chat.completions.create(\n",
    "    model=\"gpt-4.1-mini\",\n",
    "    messages=messages\n",
    ")\n",
    "\n",
    "answer = response.choices[0].message.content\n",
    "print(answer)\n"
   ]
  },
  {
   "cell_type": "code",
   "execution_count": 20,
   "metadata": {},
   "outputs": [
    {
     "data": {
      "text/markdown": [
       "Let's analyze the problem step by step:\n",
       "\n",
       "- Five machines take five minutes to make five widgets.\n",
       "- This means **one machine** takes five minutes to make one widget.\n",
       "- Therefore, each machine produces **one widget every five minutes**.\n",
       "\n",
       "Now, if we have 100 machines working simultaneously:\n",
       "\n",
       "- Each machine makes one widget in five minutes.\n",
       "- So, 100 machines will make 100 widgets in **five minutes**.\n",
       "\n",
       "**Answer:** 5 minutes."
      ],
      "text/plain": [
       "<IPython.core.display.Markdown object>"
      ]
     },
     "metadata": {},
     "output_type": "display_data"
    }
   ],
   "source": [
    "from IPython.display import Markdown, display\n",
    "\n",
    "display(Markdown(answer))\n",
    "\n"
   ]
  },
  {
   "cell_type": "code",
   "execution_count": null,
   "metadata": {},
   "outputs": [],
   "source": [
    "Business_idea = \"To develop a Conception of an AI-based mobility consultant for Geislingen an der Steige that proposes measures for sustainable mobility and shows the funding opportunities.\"\n",
    "messages = [{\"role\": \"user\", \"content\": Business_idea}]"
   ]
  },
  {
   "cell_type": "code",
   "execution_count": null,
   "metadata": {},
   "outputs": [],
   "source": [
    "response = openai.chat.completions.create(\n",
    "    model=\"gpt-4.1-mini\",\n",
    "    messages=messages\n",
    ")\n",
    "\n",
    "Business_idea = response.choices[0].message.content\n",
    "\n",
    "print(Business_idea)\n"
   ]
  },
  {
   "cell_type": "markdown",
   "metadata": {},
   "source": [
    "# Congratulations!\n",
    "\n",
    "That was a small, simple step in the direction of Agentic AI, with your new environment!\n",
    "\n",
    "Next time things get more interesting..."
   ]
  },
  {
   "cell_type": "markdown",
   "metadata": {},
   "source": [
    "<table style=\"margin: 0; text-align: left; width:100%\">\n",
    "    <tr>\n",
    "        <td style=\"width: 150px; height: 150px; vertical-align: middle;\">\n",
    "            <img src=\"../assets/exercise.png\" width=\"150\" height=\"150\" style=\"display: block;\" />\n",
    "        </td>\n",
    "        <td>\n",
    "            <h2 style=\"color:#ff7800;\">Exercise</h2>\n",
    "            <span style=\"color:#ff7800;\">Now try this commercial application:<br/>\n",
    "            First ask the LLM to pick a business area that might be worth exploring for an Agentic AI opportunity.<br/>\n",
    "            Then ask the LLM to present a pain-point in that industry - something challenging that might be ripe for an Agentic solution.<br/>\n",
    "            Finally have 3 third LLM call propose the Agentic AI solution.\n",
    "            </span>\n",
    "        </td>\n",
    "    </tr>\n",
    "</table>"
   ]
  },
  {
   "cell_type": "code",
   "execution_count": 26,
   "metadata": {},
   "outputs": [],
   "source": [
    "# First create the messages:\n",
    "\n",
    "business_idea = \"Please propose a Business idea on lead Generation freelance services in Germany as a student.\"\n",
    "messages = [{\"role\": \"user\", \"content\": business_idea}]"
   ]
  },
  {
   "cell_type": "markdown",
   "metadata": {},
   "source": []
  },
  {
   "cell_type": "code",
   "execution_count": 27,
   "metadata": {},
   "outputs": [
    {
     "name": "stdout",
     "output_type": "stream",
     "text": [
      "Certainly! Here’s a detailed business idea for offering **Lead Generation Freelance Services in Germany** as a student:\n",
      "\n",
      "---\n",
      "\n",
      "### Business Idea:  \n",
      "**“StudentLeadDE” – Freelance Lead Generation Services for Small and Medium German Businesses**\n",
      "\n",
      "---\n",
      "\n",
      "### Concept Overview:  \n",
      "As a student in Germany, leverage your knowledge of digital tools, market research, and communication skills to help local small and medium enterprises (SMEs) generate qualified leads. Many SMEs in Germany want to grow their customer base but lack the time or expertise to do effective lead generation online.\n",
      "\n",
      "---\n",
      "\n",
      "### Why It Works:  \n",
      "- Germany has a large number of SMEs which form the backbone of its economy.  \n",
      "- Many businesses are digitally transforming but are understaffed or lack dedicated marketing teams.  \n",
      "- As a student, you can offer affordable, flexible, and fresh digital marketing skills.  \n",
      "- Freelance model allows low overhead and scalable work hours.\n",
      "\n",
      "---\n",
      "\n",
      "### Target Clients:  \n",
      "- Local businesses such as real estate agencies, insurance brokers, consultants, fitness centers, language schools, or e-commerce startups.  \n",
      "- Startups looking to build an email list or book sales/demo calls.  \n",
      "- B2B companies needing contact lists of potential corporate clients.\n",
      "\n",
      "---\n",
      "\n",
      "### Services Offered:  \n",
      "1. **Market & Competitor Research:** Identify target audiences, ideal customer profiles, and competitor strategies.  \n",
      "2. **Lead List Building:** Using LinkedIn, Xing (German professional network), business directories, and tools like Hunter.io to create targeted prospect lists.  \n",
      "3. **Email Outreach Campaigns:** Design and send personalized cold emails or newsletters (using Mailchimp, Woodpecker, etc.) to nurture leads.  \n",
      "4. **Social Media Lead Generation:** Use Instagram, Facebook, and LinkedIn organic strategies to capture inbound leads.  \n",
      "5. **Data Management:** Clean, update, and maintain CRM systems like HubSpot or Zoho CRM.  \n",
      "6. **Appointment Setting:** Qualify leads and book appointments/demos for sales teams.\n",
      "\n",
      "---\n",
      "\n",
      "### Tools You Can Use:  \n",
      "- LinkedIn Sales Navigator / Xing Pro  \n",
      "- Hunter.io, Snov.io for email extraction  \n",
      "- Mailchimp, Lemlist, Woodpecker for outreach  \n",
      "- Google Sheets / Airtable for database management  \n",
      "- Canva for designing email templates and social posts  \n",
      "\n",
      "---\n",
      "\n",
      "### How to Start:  \n",
      "1. **Build Your Own Brand:** Create a simple website or landing page describing your service with pricing packages.  \n",
      "2. **Develop a Portfolio:** Offer free or discounted services to a few local businesses to get testimonials.  \n",
      "3. **Network Locally & Online:** Join German student entrepreneur groups, local chambers of commerce, and small business meetups. Use LinkedIn to connect with decision makers.  \n",
      "4. **Target Niche Markets:** Focus initially on 1-2 industries where you can quickly understand typical clients.  \n",
      "5. **Set Clear Pricing:** For example, per lead, per campaign, or monthly retainer fees starting from €200-€500 depending on deliverables.\n",
      "\n",
      "---\n",
      "\n",
      "### Potential Challenges & Solutions:  \n",
      "- **Language barrier:** Ensure your communication is fluent in German (and English if needed).  \n",
      "- **Data privacy compliance:** Familiarize yourself with GDPR rules when collecting and processing leads. Use only opt-in or publicly available data.  \n",
      "- **Building credibility:** Use testimonials, a professional LinkedIn profile, and clear case studies.\n",
      "\n",
      "---\n",
      "\n",
      "### Scaling Up:  \n",
      "- Collaborate with other students specializing in content writing, digital ads, or web development to offer bundled services.  \n",
      "- Develop an automated lead generation toolkit or training course for clients.  \n",
      "- Transition into a digital marketing agency after graduation.\n",
      "\n",
      "---\n",
      "\n",
      "### Summary  \n",
      "**StudentLeadDE** can be a profitable and practical freelance business idea that capitalizes on your skills and local market knowledge, helping German SMEs with affordable and effective lead generation.\n",
      "\n",
      "---\n",
      "\n",
      "If you want, I can also help draft a sample website copy, outreach email templates, or pricing models!\n"
     ]
    }
   ],
   "source": [
    "response = openai.chat.completions.create(\n",
    "     model=\"gpt-4.1-mini\",\n",
    "     messages=messages\n",
    ")\n",
    "\n",
    "business_idea = response.choices[0].message.content\n",
    "print(business_idea)"
   ]
  },
  {
   "cell_type": "code",
   "execution_count": 28,
   "metadata": {},
   "outputs": [],
   "source": [
    "pain_point = \"How one can deal with the data privacy rules and acts in Germany as a student? As I know  for lead generation we target profiles emails and phone contacts.\"\n",
    "messages = [{\"role\": \"user\", \"content\": pain_point}]"
   ]
  },
  {
   "cell_type": "code",
   "execution_count": 29,
   "metadata": {},
   "outputs": [
    {
     "name": "stdout",
     "output_type": "stream",
     "text": [
      "Dealing with data privacy rules in Germany, especially as a student involved in activities like lead generation, requires careful adherence to very strict regulations. Germany enforces the EU General Data Protection Regulation (GDPR) alongside its own Federal Data Protection Act (Bundesdatenschutzgesetz, BDSG), which means handling personal data—such as emails and phone numbers—for marketing or lead generation has legal boundaries.\n",
      "\n",
      "Here are key points you should keep in mind:\n",
      "\n",
      "### 1. Understand What Constitutes Personal Data\n",
      "- Personal data includes any information relating to an identified or identifiable person, such as names, email addresses, phone numbers, etc.\n",
      "- This means collecting profiles and contact information falls under personal data processing.\n",
      "\n",
      "### 2. Lawfulness of Processing: Get a Legal Basis\n",
      "Under GDPR, processing personal data must have a lawful basis. Common bases for lead generation:\n",
      "- **Consent**: Explicit permission from the person to receive marketing communication. This must be freely given, specific, informed, and unambiguous.\n",
      "- **Legitimate Interest**: Sometimes companies rely on legitimate interest, but this requires a careful balancing test to ensure it doesn’t override individuals’ rights.\n",
      "\n",
      "### 3. Consent Must be Verifiable and Specific\n",
      "- You cannot use pre-checked boxes or vague statements. The person must actively opt-in.\n",
      "- You must inform them clearly what you will use their data for.\n",
      "- Consent can be withdrawn at any time.\n",
      "\n",
      "### 4. Transparency and Information\n",
      "- You need to provide data subjects with clear information on how their data will be processed, who will process it, data retention, and their rights.\n",
      "- Typically, this is done through a privacy notice or policy.\n",
      "\n",
      "### 5. Data Minimization and Purpose Limitation\n",
      "- Collect only the data necessary for your purpose.\n",
      "- Use the data only for the purposes stated at the time of collection.\n",
      "\n",
      "### 6. Data Security\n",
      "- Implement appropriate technical and organizational measures to protect data from unauthorized access or breaches.\n",
      "\n",
      "### 7. Special Rules for Marketing\n",
      "- In Germany, cold-calling or sending unsolicited emails/phone calls to individuals for marketing is heavily regulated.\n",
      "- Consent is generally required before sending direct marketing communications.\n",
      "- For B2B communications, rules can be slightly less strict, but still require careful compliance and opt-out options.\n",
      "\n",
      "### 8. Keep Records\n",
      "- Maintain records of consents and processing activities as evidence of compliance.\n",
      "\n",
      "---\n",
      "\n",
      "### Practical advice for you as a student:\n",
      "- **Avoid scraping or buying contact lists** unless you’re sure those lists were gathered with proper consent.\n",
      "- **Seek explicit consent** before contacting people. Consider using double opt-in mechanisms for emails.\n",
      "- Use university resources or courses to get familiar with data privacy basics.\n",
      "- If your lead generation is for a project or internship, ask your supervisor about compliance and check if your institution has a data protection officer (DPO).\n",
      "- Consider anonymizing or pseudonymizing data where possible.\n",
      "\n",
      "---\n",
      "\n",
      "### Summary\n",
      "Germany has strict privacy laws, so ethically and legally, always get explicit consent before using personal data for lead generation. Study the GDPR and BDSG basics, be transparent, minimize data collection, and protect the data.\n",
      "\n",
      "If you want, I can also help you draft a consent form or privacy notice that complies with these rules. Let me know!\n"
     ]
    }
   ],
   "source": [
    "response = openai.chat.completions.create(\n",
    "    model=\"gpt-4.1-mini\",\n",
    "    messages=messages\n",
    ")\n",
    "pain_point = response.choices[0].message.content\n",
    "print(pain_point)"
   ]
  },
  {
   "cell_type": "code",
   "execution_count": null,
   "metadata": {},
   "outputs": [],
   "source": []
  }
 ],
 "metadata": {
  "kernelspec": {
   "display_name": ".venv",
   "language": "python",
   "name": "python3"
  },
  "language_info": {
   "codemirror_mode": {
    "name": "ipython",
    "version": 3
   },
   "file_extension": ".py",
   "mimetype": "text/x-python",
   "name": "python",
   "nbconvert_exporter": "python",
   "pygments_lexer": "ipython3",
   "version": "3.12.10"
  }
 },
 "nbformat": 4,
 "nbformat_minor": 2
}
